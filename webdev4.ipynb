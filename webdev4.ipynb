{
 "cells": [
  {
   "cell_type": "markdown",
   "id": "a0813d16-b328-4ccc-8f33-159d53c46cad",
   "metadata": {},
   "source": [
    "**Q.1 Explain Hoisting in JavaScript**"
   ]
  },
  {
   "cell_type": "markdown",
   "id": "9d341177-7078-422b-b473-2a39578988db",
   "metadata": {},
   "source": [
    "Hoisting is a JavaScript behavior where variable and function declarations are moved to the top of their scope during the compilation phase, before the code is executed. This means that you can use variables and functions before they are actually declared in your code. However, only the declarations are hoisted, not the initializations or assignments."
   ]
  },
  {
   "cell_type": "code",
   "execution_count": null,
   "id": "e3c31947-78e8-4ef9-93d2-04fdcf4b4334",
   "metadata": {},
   "outputs": [],
   "source": []
  },
  {
   "cell_type": "markdown",
   "id": "e273d319-87c4-4dc2-95eb-da2bfa8373aa",
   "metadata": {},
   "source": [
    "**Q.2** Explain Temporal Dead Zone?"
   ]
  },
  {
   "cell_type": "markdown",
   "id": "02116ee9-1474-4173-864c-9d7afe16b912",
   "metadata": {},
   "source": [
    "The Temporal Dead Zone is a behavior that occurs with variables declared using let and const in JavaScript. It's the period between entering a scope (such as a block) and the actual declaration of the variable. During this time, accessing the variable will throw a ReferenceError. This ensures that variables are not accessed before they are declared and helps prevent potential bugs."
   ]
  },
  {
   "cell_type": "code",
   "execution_count": null,
   "id": "3ff504d8-8167-43bb-862b-0d29a68190c1",
   "metadata": {},
   "outputs": [],
   "source": []
  },
  {
   "cell_type": "markdown",
   "id": "cd13794e-607c-46cf-bc0d-5457013370fa",
   "metadata": {},
   "source": [
    "**Q.3** Difference between var & let?"
   ]
  },
  {
   "cell_type": "markdown",
   "id": "632d42ea-7033-497f-a63f-a1444d438078",
   "metadata": {},
   "source": [
    "The main difference between var and let is their scope. Variables declared with var are function-scoped, meaning they are accessible throughout the entire function they are defined in. On the other hand, variables declared with let are block-scoped, meaning they are only accessible within the block they are defined in (e.g., within an if statement or a loop)."
   ]
  },
  {
   "cell_type": "code",
   "execution_count": null,
   "id": "4c99abbc-440a-4614-9d22-a7be92f2eaae",
   "metadata": {},
   "outputs": [],
   "source": []
  },
  {
   "cell_type": "markdown",
   "id": "effb8a4e-6395-4f93-9c31-f8789675f273",
   "metadata": {},
   "source": [
    "**Q.4** What are the major features introduced in ECMAScript 6?"
   ]
  },
  {
   "cell_type": "markdown",
   "id": "4cc3cf9d-4763-435f-a6da-07a98dfe7553",
   "metadata": {},
   "source": [
    "ECMAScript 6 (ES6), also known as ECMAScript 2015, introduced several major features to JavaScript. Some of the notable features include block-scoped variables (let and const), arrow functions, template literals, destructuring assignment, classes, modules, and the spread operator. These features enhance the syntax and capabilities of JavaScript, making it more expressive, modular, and easier to write and maintain code."
   ]
  },
  {
   "cell_type": "code",
   "execution_count": null,
   "id": "19b30189-f80a-4dda-9436-e0e5b09e6afc",
   "metadata": {},
   "outputs": [],
   "source": []
  },
  {
   "cell_type": "markdown",
   "id": "f4c157d0-7d16-446f-bf91-b199f6230314",
   "metadata": {},
   "source": [
    "**Q.5** What is the difference between **`let`** and **`const`** ?"
   ]
  },
  {
   "cell_type": "markdown",
   "id": "3c6fa62a-da76-42ab-bfc1-7a4f934b5f42",
   "metadata": {},
   "source": [
    "The main difference between let and const is that let allows you to reassign a new value to the variable, while const does not allow reassignment after the initial value is assigned. In other words, let variables are mutable, meaning their values can change, while const variables are immutable, meaning their values cannot be changed once assigned. Both let and const are block-scoped and have a temporal dead zone, ensuring better variable scoping and reducing potential bugs.\n"
   ]
  },
  {
   "cell_type": "code",
   "execution_count": null,
   "id": "ca8a5565-96d4-4193-8d95-4069f9a6e57c",
   "metadata": {},
   "outputs": [],
   "source": []
  },
  {
   "cell_type": "code",
   "execution_count": null,
   "id": "e2e7897c-9b1c-44ff-8719-b59d045eb902",
   "metadata": {},
   "outputs": [],
   "source": [
    "Q.6 What is template literals in ES6 and how do you use them?"
   ]
  },
  {
   "cell_type": "markdown",
   "id": "e478c786-d2dc-4795-8df9-325093c7dbc4",
   "metadata": {},
   "source": [
    "Template literals, introduced in ES6, are a way to create strings that allow for easy embedding of variables and expressions. They use backticks (`) instead of single or double quotes. Template literals support multi-line strings, variable interpolation using ${variable}, and even expressions within ${}. They provide a more convenient and readable way to concatenate strings and variables compared to traditional string concatenation methods."
   ]
  },
  {
   "cell_type": "code",
   "execution_count": null,
   "id": "807087c2-ded8-432a-a923-bf37819adb26",
   "metadata": {},
   "outputs": [],
   "source": []
  },
  {
   "cell_type": "code",
   "execution_count": null,
   "id": "1768d0f9-587b-4357-bbef-7ebf195aafb7",
   "metadata": {},
   "outputs": [],
   "source": [
    "Q.7 What’s difference between map & forEach?"
   ]
  },
  {
   "cell_type": "markdown",
   "id": "511009cb-e61d-4bb7-b191-954a69207619",
   "metadata": {},
   "source": [
    "The main difference between map and forEach is that map returns a new array with the results of applying a function to each element, while forEach simply executes a provided function on each element of an array. map is useful when you want to transform or modify an array, whereas forEach is used when you want to perform an operation on each element without creating a new array."
   ]
  },
  {
   "cell_type": "code",
   "execution_count": null,
   "id": "ebe408d1-04d3-4d30-9ac2-b647b139f37a",
   "metadata": {},
   "outputs": [],
   "source": []
  },
  {
   "cell_type": "code",
   "execution_count": null,
   "id": "4e3656e8-a453-4797-a848-24eb9ad30228",
   "metadata": {},
   "outputs": [],
   "source": [
    "Q.8 How can you destructure objects and arrays in ES6?"
   ]
  },
  {
   "cell_type": "markdown",
   "id": "be78c86c-58de-4d3f-8909-ce8fb620cc7c",
   "metadata": {},
   "source": [
    "Destructuring in ES6 allows you to extract values from objects and arrays into separate variables. For objects, you can destructure by specifying the desired variable names that match the object's property names. For arrays, you can destructure by specifying the desired variable names in square brackets, matching the order of the array elements. This provides a concise way to extract and assign values, making code more readable and reducing the need for repetitive indexing."
   ]
  },
  {
   "cell_type": "code",
   "execution_count": null,
   "id": "74461cd1-97e2-4b0d-b172-163633938ba7",
   "metadata": {},
   "outputs": [],
   "source": []
  },
  {
   "cell_type": "code",
   "execution_count": null,
   "id": "8d03bc54-3402-4417-b0c7-21863a241251",
   "metadata": {},
   "outputs": [],
   "source": [
    "Q.9 How can you define default parameter values in ES6 functions?"
   ]
  },
  {
   "cell_type": "markdown",
   "id": "8d9dc1d7-f10b-4f94-88d0-889b2ab19b37",
   "metadata": {},
   "source": [
    "ES6 introduced the ability to set default values for function parameters. When a parameter is not provided or is undefined, the default value specified during parameter declaration is used instead. This allows functions to handle missing or undefined arguments gracefully and avoids errors. Default parameter values are specified using the assignment operator (=) in the function's parameter list."
   ]
  },
  {
   "cell_type": "code",
   "execution_count": null,
   "id": "a764f4f4-0b34-4463-9956-dc83a73c6dca",
   "metadata": {},
   "outputs": [],
   "source": []
  },
  {
   "cell_type": "code",
   "execution_count": null,
   "id": "d326b2e5-72e5-4d98-abc1-f0b1eccdaaa1",
   "metadata": {},
   "outputs": [],
   "source": [
    "Q.10 What is the purpose of the spread operator (**`...`**) in ES6?"
   ]
  },
  {
   "cell_type": "markdown",
   "id": "c7c422dd-87d9-4c7b-b2e7-42ef8361d8c2",
   "metadata": {},
   "source": [
    "The spread operator (...) in ES6 allows you to expand or spread elements from an iterable (such as an array or string) into various contexts. In arrays, it can be used to create a new array by combining existing arrays, or to pass individual elements as arguments to a function. In objects, it can be used to create a new object by merging existing objects. The spread operator simplifies working with collections and provides a concise way to manipulate and combine elements."
   ]
  },
  {
   "cell_type": "code",
   "execution_count": null,
   "id": "56ba9d98-0a50-4d36-a6fc-1ae2022eec75",
   "metadata": {},
   "outputs": [],
   "source": []
  }
 ],
 "metadata": {
  "kernelspec": {
   "display_name": "Python 3 (ipykernel)",
   "language": "python",
   "name": "python3"
  },
  "language_info": {
   "codemirror_mode": {
    "name": "ipython",
    "version": 3
   },
   "file_extension": ".py",
   "mimetype": "text/x-python",
   "name": "python",
   "nbconvert_exporter": "python",
   "pygments_lexer": "ipython3",
   "version": "3.10.8"
  }
 },
 "nbformat": 4,
 "nbformat_minor": 5
}
