{
 "cells": [
  {
   "cell_type": "markdown",
   "id": "7427e835-a340-4cd4-91e6-978a0efe6d48",
   "metadata": {},
   "source": [
    "**Q.1** What’s difference between Synchronous and Asynchronous?\n",
    "\n",
    "**Q.2** What are Web Apis ?\n",
    "\n",
    "**Q.3** Explain SetTimeOut and setInterval ?\n",
    "\n",
    "**Q.4** how can you handle Async code in JavaScript ?\n",
    "\n",
    "**Q.5** What are Callbacks &  Callback Hell ?\n"
   ]
  },
  {
   "cell_type": "code",
   "execution_count": null,
   "id": "5bd4d67e-bddb-4de6-a461-81d134bf060a",
   "metadata": {},
   "outputs": [],
   "source": []
  },
  {
   "cell_type": "markdown",
   "id": "8d348d03-022e-45f2-a510-c37a13da8fe9",
   "metadata": {},
   "source": [
    "1. Synchronous and asynchronous are terms used to describe how actions or events are handled in a program.\n",
    "\n",
    "- Synchronous: When actions are performed synchronously, they happen one after the other in a specific order. It's like following a set of instructions step by step, where you wait for each task to finish before moving on to the next. Imagine a queue where people wait for their turn to complete a task. The next person can only start after the previous person is done. This ensures that tasks are completed in a predictable and orderly manner.\n",
    "\n",
    "- Asynchronous: On the other hand, asynchronous actions don't have to wait for each other to finish. They can happen simultaneously or independently, without blocking the program from executing other tasks. It's like multitasking, where you can do multiple things at once. Imagine sending emails in the background while you continue working on other tasks. The emails are being sent independently, and you don't have to wait for each email to be sent before moving on to the next task.\n",
    "\n",
    "2. Web APIs (Application Programming Interfaces) are sets of rules and tools that allow different software applications to communicate with each other over the internet. They provide a way for developers to access certain functionalities or services provided by another application or service.\n",
    "\n",
    "To put it simply, think of a Web API as a waiter at a restaurant. You, as a customer (your application), can make specific requests to the waiter (the API) to get information or perform actions. The waiter then communicates with the kitchen (the server) to fulfill your requests and brings back the response to you.\n",
    "\n",
    "Web APIs enable developers to integrate and utilize services provided by other applications or services, such as retrieving data from a database, accessing weather information, or interacting with social media platforms.\n",
    "\n",
    "3. setTimeout and setInterval are functions in JavaScript used for timing events.\n",
    "\n",
    "- setTimeout: It allows you to schedule a single delayed action. You can specify a time (in milliseconds) after which a specific task or function should be executed. For example, you can use setTimeout to display a message after a certain amount of time has passed. It's like setting a timer on your phone to remind you to do something in the future.\n",
    "\n",
    "- setInterval: It is similar to setTimeout but repeatedly executes a task or function at a specified interval. You can set a time interval (in milliseconds), and the task will be executed repeatedly after that interval. For example, you can use setInterval to update the time on a clock every second. It's like a recurring alarm that goes off every specified time interval.\n",
    "\n",
    "4. In JavaScript, you can handle asynchronous code using various techniques:\n",
    "\n",
    "- Callbacks: A callback is a function that is passed as an argument to another function and is called once an asynchronous operation is completed. It allows you to specify what should happen after the asynchronous operation finishes. It's like giving someone a phone number and asking them to call you back when they're done with a task.\n",
    "\n",
    "- Promises: Promises provide a way to handle asynchronous operations in a more structured manner. They represent a future value or the result of an asynchronous task. Promises allow you to chain operations and specify what to do when the promise is fulfilled (success) or rejected (error). It's like ordering a package online and receiving a promise that it will be delivered. Once the promise is fulfilled, you can handle the package as desired.\n",
    "\n",
    "- Async/await: Async/await is a newer syntax in JavaScript that makes working with asynchronous code more readable and straightforward. It allows you to write asynchronous code that looks like synchronous code, making it easier to understand and maintain. The \"async\" keyword is used to define a function as asynchronous, and the \"await\" keyword is used to pause the execution of the function until a promise is resolved or rejected. It's like putting a pause in a conversation until you receive a response.\n",
    "\n",
    "5. Callbacks are functions that are passed as arguments to another function and are called when a certain task or operation is completed. They are commonly used to handle asynchronous code and ensure that specific actions are executed after an asynchronous operation finishes.\n",
    "\n",
    "Callback Hell refers to a situation where callbacks are nested inside each other in complex and unreadable ways. This can happen when dealing with multiple asynchronous operations that depend on each other's results. The code becomes deeply nested and difficult to understand, making it hard to maintain and debug.\n",
    "\n",
    "Imagine writing a story where every sentence depends on the completion of the previous sentence, and the story goes on and on. It becomes challenging to keep track of what is happening and to follow the flow of the story.\n",
    "\n",
    "To mitigate callback hell, newer techniques like Promises and async/await have been introduced in JavaScript. They provide more structured and readable ways to handle asynchronous code, making it easier to write and maintain complex operations without deep nesting of callbacks."
   ]
  },
  {
   "cell_type": "code",
   "execution_count": null,
   "id": "2e0ce85b-5638-4a95-b8b3-f1771a64623a",
   "metadata": {},
   "outputs": [],
   "source": []
  },
  {
   "cell_type": "markdown",
   "id": "12e0d88a-bc94-4582-ac13-95afc45f78cd",
   "metadata": {},
   "source": [
    "**Q.6** What are Promises & Explain Some Three Methods of Promise\n",
    "\n",
    "**Q.7** What’s async & await Keyword in JavaScript\n",
    "\n",
    "**Q.8** Explain Purpose of Try and Catch Block & Why do we need it?\n",
    "\n",
    "**Q.9** Explain fetch\n",
    "\n",
    "**Q.10** How do you define an asynchronous function in JavaScript using async/await?\n"
   ]
  },
  {
   "cell_type": "code",
   "execution_count": null,
   "id": "4c655237-c660-443b-829c-5a6e77071dd0",
   "metadata": {},
   "outputs": [],
   "source": []
  },
  {
   "cell_type": "code",
   "execution_count": null,
   "id": "656fffa6-9b88-42c3-944d-f7c9cd07e06a",
   "metadata": {},
   "outputs": [],
   "source": []
  }
 ],
 "metadata": {
  "kernelspec": {
   "display_name": "Python 3 (ipykernel)",
   "language": "python",
   "name": "python3"
  },
  "language_info": {
   "codemirror_mode": {
    "name": "ipython",
    "version": 3
   },
   "file_extension": ".py",
   "mimetype": "text/x-python",
   "name": "python",
   "nbconvert_exporter": "python",
   "pygments_lexer": "ipython3",
   "version": "3.10.8"
  }
 },
 "nbformat": 4,
 "nbformat_minor": 5
}
